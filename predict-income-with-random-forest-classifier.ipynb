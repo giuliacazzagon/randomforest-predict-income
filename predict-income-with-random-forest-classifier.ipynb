{
 "cells": [
  {
   "cell_type": "markdown",
   "id": "8b519ff1",
   "metadata": {
    "papermill": {
     "duration": 0.006169,
     "end_time": "2023-10-11T10:05:44.670144",
     "exception": false,
     "start_time": "2023-10-11T10:05:44.663975",
     "status": "completed"
    },
    "tags": []
   },
   "source": [
    "# Predicting income bracket with Random Forest Classifier\n",
    "\n",
    "In this project, I will be using a dataset containing census information from UCI’s Machine Learning Repository. By using this census data with a random forest, I will try to predict whether or not a person makes more than $50,000.\n",
    "\n",
    "The original data set is available at the [UCI Machine Learning Repository](https://archive.ics.uci.edu/ml/datasets/census+income). \n",
    "\n",
    "Some of the input and output features of interest are:\n",
    "\n",
    "- age: continuous\n",
    "- workclass: Private, Self-emp-not-inc, Self-emp-inc, Federal-gov, Local-gov, State-gov, Without-pay, Never-worked.\n",
    "- education: Bachelors, Some-college, 11th, HS-grad, Prof-school, Assoc-acdm, Assoc-voc, 9th, 7th-8th, 12th, Masters, 1st-4th, 10th, Doctorate, 5th-6th, Preschool\n",
    "- race: White, Asian-Pac-Islander, Amer-Indian-Eskimo, Other, Black\n",
    "- sex: Female, Male\n",
    "- capital-gain: continuous\n",
    "- capital-loss: continuous\n",
    "- hours-per-week: continuous\n",
    "- native country: discrete\n",
    "- income: discrete, >50K, <=50K"
   ]
  },
  {
   "cell_type": "markdown",
   "id": "82f3214b",
   "metadata": {
    "papermill": {
     "duration": 0.00559,
     "end_time": "2023-10-11T10:05:44.681817",
     "exception": false,
     "start_time": "2023-10-11T10:05:44.676227",
     "status": "completed"
    },
    "tags": []
   },
   "source": [
    "# Investigate the data"
   ]
  },
  {
   "cell_type": "code",
   "execution_count": 1,
   "id": "c0ad6008",
   "metadata": {
    "execution": {
     "iopub.execute_input": "2023-10-11T10:05:44.695298Z",
     "iopub.status.busy": "2023-10-11T10:05:44.694941Z",
     "iopub.status.idle": "2023-10-11T10:05:48.056995Z",
     "shell.execute_reply": "2023-10-11T10:05:48.055816Z"
    },
    "papermill": {
     "duration": 3.371903,
     "end_time": "2023-10-11T10:05:48.059334",
     "exception": false,
     "start_time": "2023-10-11T10:05:44.687431",
     "status": "completed"
    },
    "tags": []
   },
   "outputs": [],
   "source": [
    "import pandas as pd\n",
    "import numpy as np\n",
    "import matplotlib.pyplot as plt\n",
    "import seaborn as sns\n",
    "\n",
    "#Import models from scikit learn module:\n",
    "from sklearn.model_selection import train_test_split\n",
    "from sklearn.tree import DecisionTreeClassifier\n",
    "from sklearn.ensemble import RandomForestClassifier, BaggingClassifier, RandomForestRegressor\n",
    "from sklearn import tree\n",
    "from sklearn.linear_model import LogisticRegression\n",
    "from sklearn.metrics import accuracy_score, precision_score, recall_score, f1_score, roc_auc_score"
   ]
  },
  {
   "cell_type": "code",
   "execution_count": 2,
   "id": "58e2d76e",
   "metadata": {
    "execution": {
     "iopub.execute_input": "2023-10-11T10:05:48.072860Z",
     "iopub.status.busy": "2023-10-11T10:05:48.072290Z",
     "iopub.status.idle": "2023-10-11T10:05:48.235207Z",
     "shell.execute_reply": "2023-10-11T10:05:48.234003Z"
    },
    "papermill": {
     "duration": 0.172517,
     "end_time": "2023-10-11T10:05:48.237651",
     "exception": false,
     "start_time": "2023-10-11T10:05:48.065134",
     "status": "completed"
    },
    "tags": []
   },
   "outputs": [],
   "source": [
    "# Read data into df\n",
    "col_names = ['age', 'workclass', 'fnlwgt','education', 'education-num', \n",
    "'marital-status', 'occupation', 'relationship', 'race', 'sex',\n",
    "'capital-gain','capital-loss', 'hours-per-week','native-country', 'income']\n",
    "df = pd.read_csv('/kaggle/input/us-census-data/adult-training.csv', header=None, names = col_names)"
   ]
  },
  {
   "cell_type": "code",
   "execution_count": 3,
   "id": "658516c6",
   "metadata": {
    "execution": {
     "iopub.execute_input": "2023-10-11T10:05:48.252895Z",
     "iopub.status.busy": "2023-10-11T10:05:48.252532Z",
     "iopub.status.idle": "2023-10-11T10:05:48.282370Z",
     "shell.execute_reply": "2023-10-11T10:05:48.280813Z"
    },
    "papermill": {
     "duration": 0.039612,
     "end_time": "2023-10-11T10:05:48.284955",
     "exception": false,
     "start_time": "2023-10-11T10:05:48.245343",
     "status": "completed"
    },
    "tags": []
   },
   "outputs": [
    {
     "name": "stdout",
     "output_type": "stream",
     "text": [
      "(32561, 15)\n"
     ]
    },
    {
     "data": {
      "text/html": [
       "<div>\n",
       "<style scoped>\n",
       "    .dataframe tbody tr th:only-of-type {\n",
       "        vertical-align: middle;\n",
       "    }\n",
       "\n",
       "    .dataframe tbody tr th {\n",
       "        vertical-align: top;\n",
       "    }\n",
       "\n",
       "    .dataframe thead th {\n",
       "        text-align: right;\n",
       "    }\n",
       "</style>\n",
       "<table border=\"1\" class=\"dataframe\">\n",
       "  <thead>\n",
       "    <tr style=\"text-align: right;\">\n",
       "      <th></th>\n",
       "      <th>age</th>\n",
       "      <th>workclass</th>\n",
       "      <th>fnlwgt</th>\n",
       "      <th>education</th>\n",
       "      <th>education-num</th>\n",
       "      <th>marital-status</th>\n",
       "      <th>occupation</th>\n",
       "      <th>relationship</th>\n",
       "      <th>race</th>\n",
       "      <th>sex</th>\n",
       "      <th>capital-gain</th>\n",
       "      <th>capital-loss</th>\n",
       "      <th>hours-per-week</th>\n",
       "      <th>native-country</th>\n",
       "      <th>income</th>\n",
       "    </tr>\n",
       "  </thead>\n",
       "  <tbody>\n",
       "    <tr>\n",
       "      <th>0</th>\n",
       "      <td>39</td>\n",
       "      <td>State-gov</td>\n",
       "      <td>77516</td>\n",
       "      <td>Bachelors</td>\n",
       "      <td>13</td>\n",
       "      <td>Never-married</td>\n",
       "      <td>Adm-clerical</td>\n",
       "      <td>Not-in-family</td>\n",
       "      <td>White</td>\n",
       "      <td>Male</td>\n",
       "      <td>2174</td>\n",
       "      <td>0</td>\n",
       "      <td>40</td>\n",
       "      <td>United-States</td>\n",
       "      <td>&lt;=50K</td>\n",
       "    </tr>\n",
       "    <tr>\n",
       "      <th>1</th>\n",
       "      <td>50</td>\n",
       "      <td>Self-emp-not-inc</td>\n",
       "      <td>83311</td>\n",
       "      <td>Bachelors</td>\n",
       "      <td>13</td>\n",
       "      <td>Married-civ-spouse</td>\n",
       "      <td>Exec-managerial</td>\n",
       "      <td>Husband</td>\n",
       "      <td>White</td>\n",
       "      <td>Male</td>\n",
       "      <td>0</td>\n",
       "      <td>0</td>\n",
       "      <td>13</td>\n",
       "      <td>United-States</td>\n",
       "      <td>&lt;=50K</td>\n",
       "    </tr>\n",
       "    <tr>\n",
       "      <th>2</th>\n",
       "      <td>38</td>\n",
       "      <td>Private</td>\n",
       "      <td>215646</td>\n",
       "      <td>HS-grad</td>\n",
       "      <td>9</td>\n",
       "      <td>Divorced</td>\n",
       "      <td>Handlers-cleaners</td>\n",
       "      <td>Not-in-family</td>\n",
       "      <td>White</td>\n",
       "      <td>Male</td>\n",
       "      <td>0</td>\n",
       "      <td>0</td>\n",
       "      <td>40</td>\n",
       "      <td>United-States</td>\n",
       "      <td>&lt;=50K</td>\n",
       "    </tr>\n",
       "    <tr>\n",
       "      <th>3</th>\n",
       "      <td>53</td>\n",
       "      <td>Private</td>\n",
       "      <td>234721</td>\n",
       "      <td>11th</td>\n",
       "      <td>7</td>\n",
       "      <td>Married-civ-spouse</td>\n",
       "      <td>Handlers-cleaners</td>\n",
       "      <td>Husband</td>\n",
       "      <td>Black</td>\n",
       "      <td>Male</td>\n",
       "      <td>0</td>\n",
       "      <td>0</td>\n",
       "      <td>40</td>\n",
       "      <td>United-States</td>\n",
       "      <td>&lt;=50K</td>\n",
       "    </tr>\n",
       "    <tr>\n",
       "      <th>4</th>\n",
       "      <td>28</td>\n",
       "      <td>Private</td>\n",
       "      <td>338409</td>\n",
       "      <td>Bachelors</td>\n",
       "      <td>13</td>\n",
       "      <td>Married-civ-spouse</td>\n",
       "      <td>Prof-specialty</td>\n",
       "      <td>Wife</td>\n",
       "      <td>Black</td>\n",
       "      <td>Female</td>\n",
       "      <td>0</td>\n",
       "      <td>0</td>\n",
       "      <td>40</td>\n",
       "      <td>Cuba</td>\n",
       "      <td>&lt;=50K</td>\n",
       "    </tr>\n",
       "  </tbody>\n",
       "</table>\n",
       "</div>"
      ],
      "text/plain": [
       "   age          workclass  fnlwgt   education  education-num  \\\n",
       "0   39          State-gov   77516   Bachelors             13   \n",
       "1   50   Self-emp-not-inc   83311   Bachelors             13   \n",
       "2   38            Private  215646     HS-grad              9   \n",
       "3   53            Private  234721        11th              7   \n",
       "4   28            Private  338409   Bachelors             13   \n",
       "\n",
       "        marital-status          occupation    relationship    race      sex  \\\n",
       "0        Never-married        Adm-clerical   Not-in-family   White     Male   \n",
       "1   Married-civ-spouse     Exec-managerial         Husband   White     Male   \n",
       "2             Divorced   Handlers-cleaners   Not-in-family   White     Male   \n",
       "3   Married-civ-spouse   Handlers-cleaners         Husband   Black     Male   \n",
       "4   Married-civ-spouse      Prof-specialty            Wife   Black   Female   \n",
       "\n",
       "   capital-gain  capital-loss  hours-per-week  native-country  income  \n",
       "0          2174             0              40   United-States   <=50K  \n",
       "1             0             0              13   United-States   <=50K  \n",
       "2             0             0              40   United-States   <=50K  \n",
       "3             0             0              40   United-States   <=50K  \n",
       "4             0             0              40            Cuba   <=50K  "
      ]
     },
     "execution_count": 3,
     "metadata": {},
     "output_type": "execute_result"
    }
   ],
   "source": [
    "print(df.shape)\n",
    "df.head()"
   ]
  },
  {
   "cell_type": "code",
   "execution_count": 4,
   "id": "2e0c349d",
   "metadata": {
    "execution": {
     "iopub.execute_input": "2023-10-11T10:05:48.298837Z",
     "iopub.status.busy": "2023-10-11T10:05:48.298446Z",
     "iopub.status.idle": "2023-10-11T10:05:48.316161Z",
     "shell.execute_reply": "2023-10-11T10:05:48.314808Z"
    },
    "papermill": {
     "duration": 0.027374,
     "end_time": "2023-10-11T10:05:48.318370",
     "exception": false,
     "start_time": "2023-10-11T10:05:48.290996",
     "status": "completed"
    },
    "tags": []
   },
   "outputs": [
    {
     "data": {
      "text/plain": [
       "income\n",
       " <=50K    0.75919\n",
       " >50K     0.24081\n",
       "Name: proportion, dtype: float64"
      ]
     },
     "execution_count": 4,
     "metadata": {},
     "output_type": "execute_result"
    }
   ],
   "source": [
    "# distribution of income values\n",
    "df.income.value_counts(normalize=True)"
   ]
  },
  {
   "cell_type": "code",
   "execution_count": 5,
   "id": "30554621",
   "metadata": {
    "execution": {
     "iopub.execute_input": "2023-10-11T10:05:48.332278Z",
     "iopub.status.busy": "2023-10-11T10:05:48.331907Z",
     "iopub.status.idle": "2023-10-11T10:05:48.421291Z",
     "shell.execute_reply": "2023-10-11T10:05:48.420096Z"
    },
    "papermill": {
     "duration": 0.09904,
     "end_time": "2023-10-11T10:05:48.423518",
     "exception": false,
     "start_time": "2023-10-11T10:05:48.324478",
     "status": "completed"
    },
    "tags": []
   },
   "outputs": [
    {
     "data": {
      "text/html": [
       "<div>\n",
       "<style scoped>\n",
       "    .dataframe tbody tr th:only-of-type {\n",
       "        vertical-align: middle;\n",
       "    }\n",
       "\n",
       "    .dataframe tbody tr th {\n",
       "        vertical-align: top;\n",
       "    }\n",
       "\n",
       "    .dataframe thead th {\n",
       "        text-align: right;\n",
       "    }\n",
       "</style>\n",
       "<table border=\"1\" class=\"dataframe\">\n",
       "  <thead>\n",
       "    <tr style=\"text-align: right;\">\n",
       "      <th></th>\n",
       "      <th>age</th>\n",
       "      <th>workclass</th>\n",
       "      <th>fnlwgt</th>\n",
       "      <th>education</th>\n",
       "      <th>education-num</th>\n",
       "      <th>marital-status</th>\n",
       "      <th>occupation</th>\n",
       "      <th>relationship</th>\n",
       "      <th>race</th>\n",
       "      <th>sex</th>\n",
       "      <th>capital-gain</th>\n",
       "      <th>capital-loss</th>\n",
       "      <th>hours-per-week</th>\n",
       "      <th>native-country</th>\n",
       "      <th>income</th>\n",
       "    </tr>\n",
       "  </thead>\n",
       "  <tbody>\n",
       "    <tr>\n",
       "      <th>count</th>\n",
       "      <td>32561.000000</td>\n",
       "      <td>32561</td>\n",
       "      <td>3.256100e+04</td>\n",
       "      <td>32561</td>\n",
       "      <td>32561.000000</td>\n",
       "      <td>32561</td>\n",
       "      <td>32561</td>\n",
       "      <td>32561</td>\n",
       "      <td>32561</td>\n",
       "      <td>32561</td>\n",
       "      <td>32561.000000</td>\n",
       "      <td>32561.000000</td>\n",
       "      <td>32561.000000</td>\n",
       "      <td>32561</td>\n",
       "      <td>32561</td>\n",
       "    </tr>\n",
       "    <tr>\n",
       "      <th>unique</th>\n",
       "      <td>NaN</td>\n",
       "      <td>9</td>\n",
       "      <td>NaN</td>\n",
       "      <td>16</td>\n",
       "      <td>NaN</td>\n",
       "      <td>7</td>\n",
       "      <td>15</td>\n",
       "      <td>6</td>\n",
       "      <td>5</td>\n",
       "      <td>2</td>\n",
       "      <td>NaN</td>\n",
       "      <td>NaN</td>\n",
       "      <td>NaN</td>\n",
       "      <td>42</td>\n",
       "      <td>2</td>\n",
       "    </tr>\n",
       "    <tr>\n",
       "      <th>top</th>\n",
       "      <td>NaN</td>\n",
       "      <td>Private</td>\n",
       "      <td>NaN</td>\n",
       "      <td>HS-grad</td>\n",
       "      <td>NaN</td>\n",
       "      <td>Married-civ-spouse</td>\n",
       "      <td>Prof-specialty</td>\n",
       "      <td>Husband</td>\n",
       "      <td>White</td>\n",
       "      <td>Male</td>\n",
       "      <td>NaN</td>\n",
       "      <td>NaN</td>\n",
       "      <td>NaN</td>\n",
       "      <td>United-States</td>\n",
       "      <td>&lt;=50K</td>\n",
       "    </tr>\n",
       "    <tr>\n",
       "      <th>freq</th>\n",
       "      <td>NaN</td>\n",
       "      <td>22696</td>\n",
       "      <td>NaN</td>\n",
       "      <td>10501</td>\n",
       "      <td>NaN</td>\n",
       "      <td>14976</td>\n",
       "      <td>4140</td>\n",
       "      <td>13193</td>\n",
       "      <td>27816</td>\n",
       "      <td>21790</td>\n",
       "      <td>NaN</td>\n",
       "      <td>NaN</td>\n",
       "      <td>NaN</td>\n",
       "      <td>29170</td>\n",
       "      <td>24720</td>\n",
       "    </tr>\n",
       "    <tr>\n",
       "      <th>mean</th>\n",
       "      <td>38.581647</td>\n",
       "      <td>NaN</td>\n",
       "      <td>1.897784e+05</td>\n",
       "      <td>NaN</td>\n",
       "      <td>10.080679</td>\n",
       "      <td>NaN</td>\n",
       "      <td>NaN</td>\n",
       "      <td>NaN</td>\n",
       "      <td>NaN</td>\n",
       "      <td>NaN</td>\n",
       "      <td>1077.648844</td>\n",
       "      <td>87.303830</td>\n",
       "      <td>40.437456</td>\n",
       "      <td>NaN</td>\n",
       "      <td>NaN</td>\n",
       "    </tr>\n",
       "    <tr>\n",
       "      <th>std</th>\n",
       "      <td>13.640433</td>\n",
       "      <td>NaN</td>\n",
       "      <td>1.055500e+05</td>\n",
       "      <td>NaN</td>\n",
       "      <td>2.572720</td>\n",
       "      <td>NaN</td>\n",
       "      <td>NaN</td>\n",
       "      <td>NaN</td>\n",
       "      <td>NaN</td>\n",
       "      <td>NaN</td>\n",
       "      <td>7385.292085</td>\n",
       "      <td>402.960219</td>\n",
       "      <td>12.347429</td>\n",
       "      <td>NaN</td>\n",
       "      <td>NaN</td>\n",
       "    </tr>\n",
       "    <tr>\n",
       "      <th>min</th>\n",
       "      <td>17.000000</td>\n",
       "      <td>NaN</td>\n",
       "      <td>1.228500e+04</td>\n",
       "      <td>NaN</td>\n",
       "      <td>1.000000</td>\n",
       "      <td>NaN</td>\n",
       "      <td>NaN</td>\n",
       "      <td>NaN</td>\n",
       "      <td>NaN</td>\n",
       "      <td>NaN</td>\n",
       "      <td>0.000000</td>\n",
       "      <td>0.000000</td>\n",
       "      <td>1.000000</td>\n",
       "      <td>NaN</td>\n",
       "      <td>NaN</td>\n",
       "    </tr>\n",
       "    <tr>\n",
       "      <th>25%</th>\n",
       "      <td>28.000000</td>\n",
       "      <td>NaN</td>\n",
       "      <td>1.178270e+05</td>\n",
       "      <td>NaN</td>\n",
       "      <td>9.000000</td>\n",
       "      <td>NaN</td>\n",
       "      <td>NaN</td>\n",
       "      <td>NaN</td>\n",
       "      <td>NaN</td>\n",
       "      <td>NaN</td>\n",
       "      <td>0.000000</td>\n",
       "      <td>0.000000</td>\n",
       "      <td>40.000000</td>\n",
       "      <td>NaN</td>\n",
       "      <td>NaN</td>\n",
       "    </tr>\n",
       "    <tr>\n",
       "      <th>50%</th>\n",
       "      <td>37.000000</td>\n",
       "      <td>NaN</td>\n",
       "      <td>1.783560e+05</td>\n",
       "      <td>NaN</td>\n",
       "      <td>10.000000</td>\n",
       "      <td>NaN</td>\n",
       "      <td>NaN</td>\n",
       "      <td>NaN</td>\n",
       "      <td>NaN</td>\n",
       "      <td>NaN</td>\n",
       "      <td>0.000000</td>\n",
       "      <td>0.000000</td>\n",
       "      <td>40.000000</td>\n",
       "      <td>NaN</td>\n",
       "      <td>NaN</td>\n",
       "    </tr>\n",
       "    <tr>\n",
       "      <th>75%</th>\n",
       "      <td>48.000000</td>\n",
       "      <td>NaN</td>\n",
       "      <td>2.370510e+05</td>\n",
       "      <td>NaN</td>\n",
       "      <td>12.000000</td>\n",
       "      <td>NaN</td>\n",
       "      <td>NaN</td>\n",
       "      <td>NaN</td>\n",
       "      <td>NaN</td>\n",
       "      <td>NaN</td>\n",
       "      <td>0.000000</td>\n",
       "      <td>0.000000</td>\n",
       "      <td>45.000000</td>\n",
       "      <td>NaN</td>\n",
       "      <td>NaN</td>\n",
       "    </tr>\n",
       "    <tr>\n",
       "      <th>max</th>\n",
       "      <td>90.000000</td>\n",
       "      <td>NaN</td>\n",
       "      <td>1.484705e+06</td>\n",
       "      <td>NaN</td>\n",
       "      <td>16.000000</td>\n",
       "      <td>NaN</td>\n",
       "      <td>NaN</td>\n",
       "      <td>NaN</td>\n",
       "      <td>NaN</td>\n",
       "      <td>NaN</td>\n",
       "      <td>99999.000000</td>\n",
       "      <td>4356.000000</td>\n",
       "      <td>99.000000</td>\n",
       "      <td>NaN</td>\n",
       "      <td>NaN</td>\n",
       "    </tr>\n",
       "  </tbody>\n",
       "</table>\n",
       "</div>"
      ],
      "text/plain": [
       "                 age workclass        fnlwgt education  education-num  \\\n",
       "count   32561.000000     32561  3.256100e+04     32561   32561.000000   \n",
       "unique           NaN         9           NaN        16            NaN   \n",
       "top              NaN   Private           NaN   HS-grad            NaN   \n",
       "freq             NaN     22696           NaN     10501            NaN   \n",
       "mean       38.581647       NaN  1.897784e+05       NaN      10.080679   \n",
       "std        13.640433       NaN  1.055500e+05       NaN       2.572720   \n",
       "min        17.000000       NaN  1.228500e+04       NaN       1.000000   \n",
       "25%        28.000000       NaN  1.178270e+05       NaN       9.000000   \n",
       "50%        37.000000       NaN  1.783560e+05       NaN      10.000000   \n",
       "75%        48.000000       NaN  2.370510e+05       NaN      12.000000   \n",
       "max        90.000000       NaN  1.484705e+06       NaN      16.000000   \n",
       "\n",
       "             marital-status       occupation relationship    race    sex  \\\n",
       "count                 32561            32561        32561   32561  32561   \n",
       "unique                    7               15            6       5      2   \n",
       "top      Married-civ-spouse   Prof-specialty      Husband   White   Male   \n",
       "freq                  14976             4140        13193   27816  21790   \n",
       "mean                    NaN              NaN          NaN     NaN    NaN   \n",
       "std                     NaN              NaN          NaN     NaN    NaN   \n",
       "min                     NaN              NaN          NaN     NaN    NaN   \n",
       "25%                     NaN              NaN          NaN     NaN    NaN   \n",
       "50%                     NaN              NaN          NaN     NaN    NaN   \n",
       "75%                     NaN              NaN          NaN     NaN    NaN   \n",
       "max                     NaN              NaN          NaN     NaN    NaN   \n",
       "\n",
       "        capital-gain  capital-loss  hours-per-week  native-country  income  \n",
       "count   32561.000000  32561.000000    32561.000000           32561   32561  \n",
       "unique           NaN           NaN             NaN              42       2  \n",
       "top              NaN           NaN             NaN   United-States   <=50K  \n",
       "freq             NaN           NaN             NaN           29170   24720  \n",
       "mean     1077.648844     87.303830       40.437456             NaN     NaN  \n",
       "std      7385.292085    402.960219       12.347429             NaN     NaN  \n",
       "min         0.000000      0.000000        1.000000             NaN     NaN  \n",
       "25%         0.000000      0.000000       40.000000             NaN     NaN  \n",
       "50%         0.000000      0.000000       40.000000             NaN     NaN  \n",
       "75%         0.000000      0.000000       45.000000             NaN     NaN  \n",
       "max     99999.000000   4356.000000       99.000000             NaN     NaN  "
      ]
     },
     "execution_count": 5,
     "metadata": {},
     "output_type": "execute_result"
    }
   ],
   "source": [
    "df.describe(include='all')"
   ]
  },
  {
   "cell_type": "markdown",
   "id": "bd94304a",
   "metadata": {
    "papermill": {
     "duration": 0.007345,
     "end_time": "2023-10-11T10:05:48.437378",
     "exception": false,
     "start_time": "2023-10-11T10:05:48.430033",
     "status": "completed"
    },
    "tags": []
   },
   "source": [
    "## Clean data"
   ]
  },
  {
   "cell_type": "code",
   "execution_count": 6,
   "id": "59031549",
   "metadata": {
    "execution": {
     "iopub.execute_input": "2023-10-11T10:05:48.453176Z",
     "iopub.status.busy": "2023-10-11T10:05:48.452816Z",
     "iopub.status.idle": "2023-10-11T10:05:48.480292Z",
     "shell.execute_reply": "2023-10-11T10:05:48.479377Z"
    },
    "papermill": {
     "duration": 0.037777,
     "end_time": "2023-10-11T10:05:48.482686",
     "exception": false,
     "start_time": "2023-10-11T10:05:48.444909",
     "status": "completed"
    },
    "tags": []
   },
   "outputs": [
    {
     "name": "stdout",
     "output_type": "stream",
     "text": [
      "workclass\n",
      "[' State-gov' ' Self-emp-not-inc' ' Private' ' Federal-gov' ' Local-gov'\n",
      " ' ?' ' Self-emp-inc' ' Without-pay' ' Never-worked']\n",
      "education\n",
      "[' Bachelors' ' HS-grad' ' 11th' ' Masters' ' 9th' ' Some-college'\n",
      " ' Assoc-acdm' ' Assoc-voc' ' 7th-8th' ' Doctorate' ' Prof-school'\n",
      " ' 5th-6th' ' 10th' ' 1st-4th' ' Preschool' ' 12th']\n",
      "marital-status\n",
      "[' Never-married' ' Married-civ-spouse' ' Divorced'\n",
      " ' Married-spouse-absent' ' Separated' ' Married-AF-spouse' ' Widowed']\n",
      "occupation\n",
      "[' Adm-clerical' ' Exec-managerial' ' Handlers-cleaners' ' Prof-specialty'\n",
      " ' Other-service' ' Sales' ' Craft-repair' ' Transport-moving'\n",
      " ' Farming-fishing' ' Machine-op-inspct' ' Tech-support' ' ?'\n",
      " ' Protective-serv' ' Armed-Forces' ' Priv-house-serv']\n",
      "relationship\n",
      "[' Not-in-family' ' Husband' ' Wife' ' Own-child' ' Unmarried'\n",
      " ' Other-relative']\n",
      "race\n",
      "[' White' ' Black' ' Asian-Pac-Islander' ' Amer-Indian-Eskimo' ' Other']\n",
      "sex\n",
      "[' Male' ' Female']\n",
      "native-country\n",
      "[' United-States' ' Cuba' ' Jamaica' ' India' ' ?' ' Mexico' ' South'\n",
      " ' Puerto-Rico' ' Honduras' ' England' ' Canada' ' Germany' ' Iran'\n",
      " ' Philippines' ' Italy' ' Poland' ' Columbia' ' Cambodia' ' Thailand'\n",
      " ' Ecuador' ' Laos' ' Taiwan' ' Haiti' ' Portugal' ' Dominican-Republic'\n",
      " ' El-Salvador' ' France' ' Guatemala' ' China' ' Japan' ' Yugoslavia'\n",
      " ' Peru' ' Outlying-US(Guam-USVI-etc)' ' Scotland' ' Trinadad&Tobago'\n",
      " ' Greece' ' Nicaragua' ' Vietnam' ' Hong' ' Ireland' ' Hungary'\n",
      " ' Holand-Netherlands']\n",
      "income\n",
      "[' <=50K' ' >50K']\n"
     ]
    }
   ],
   "source": [
    "# look at categorical features\n",
    "cat_columns = ['workclass', 'education', 'marital-status', 'occupation', 'relationship', 'race', 'sex', 'native-country', 'income']\n",
    "\n",
    "for i in cat_columns:\n",
    "    unique_values = df[i].unique()\n",
    "    print(i)\n",
    "    print(unique_values)"
   ]
  },
  {
   "cell_type": "markdown",
   "id": "c6888205",
   "metadata": {
    "papermill": {
     "duration": 0.006661,
     "end_time": "2023-10-11T10:05:48.495988",
     "exception": false,
     "start_time": "2023-10-11T10:05:48.489327",
     "status": "completed"
    },
    "tags": []
   },
   "source": [
    "Looks like all strings in categorical features are preceded by a white space, let's clean that."
   ]
  },
  {
   "cell_type": "code",
   "execution_count": 7,
   "id": "abde7073",
   "metadata": {
    "execution": {
     "iopub.execute_input": "2023-10-11T10:05:48.511574Z",
     "iopub.status.busy": "2023-10-11T10:05:48.511156Z",
     "iopub.status.idle": "2023-10-11T10:05:48.630321Z",
     "shell.execute_reply": "2023-10-11T10:05:48.629102Z"
    },
    "papermill": {
     "duration": 0.12965,
     "end_time": "2023-10-11T10:05:48.632491",
     "exception": false,
     "start_time": "2023-10-11T10:05:48.502841",
     "status": "completed"
    },
    "tags": []
   },
   "outputs": [
    {
     "data": {
      "text/plain": [
       "array(['State-gov', 'Self-emp-not-inc', 'Private', 'Federal-gov',\n",
       "       'Local-gov', '?', 'Self-emp-inc', 'Without-pay', 'Never-worked'],\n",
       "      dtype=object)"
      ]
     },
     "execution_count": 7,
     "metadata": {},
     "output_type": "execute_result"
    }
   ],
   "source": [
    "for i in cat_columns:\n",
    "    df[i] = df[i].str.strip()\n",
    "\n",
    "df.workclass.unique()"
   ]
  },
  {
   "cell_type": "code",
   "execution_count": 8,
   "id": "c032ba35",
   "metadata": {
    "execution": {
     "iopub.execute_input": "2023-10-11T10:05:48.647324Z",
     "iopub.status.busy": "2023-10-11T10:05:48.646976Z",
     "iopub.status.idle": "2023-10-11T10:05:48.681624Z",
     "shell.execute_reply": "2023-10-11T10:05:48.680074Z"
    },
    "papermill": {
     "duration": 0.044926,
     "end_time": "2023-10-11T10:05:48.684058",
     "exception": false,
     "start_time": "2023-10-11T10:05:48.639132",
     "status": "completed"
    },
    "tags": []
   },
   "outputs": [
    {
     "name": "stdout",
     "output_type": "stream",
     "text": [
      "<class 'pandas.core.frame.DataFrame'>\n",
      "RangeIndex: 32561 entries, 0 to 32560\n",
      "Data columns (total 15 columns):\n",
      " #   Column          Non-Null Count  Dtype \n",
      "---  ------          --------------  ----- \n",
      " 0   age             32561 non-null  int64 \n",
      " 1   workclass       32561 non-null  object\n",
      " 2   fnlwgt          32561 non-null  int64 \n",
      " 3   education       32561 non-null  object\n",
      " 4   education-num   32561 non-null  int64 \n",
      " 5   marital-status  32561 non-null  object\n",
      " 6   occupation      32561 non-null  object\n",
      " 7   relationship    32561 non-null  object\n",
      " 8   race            32561 non-null  object\n",
      " 9   sex             32561 non-null  object\n",
      " 10  capital-gain    32561 non-null  int64 \n",
      " 11  capital-loss    32561 non-null  int64 \n",
      " 12  hours-per-week  32561 non-null  int64 \n",
      " 13  native-country  32561 non-null  object\n",
      " 14  income          32561 non-null  object\n",
      "dtypes: int64(6), object(9)\n",
      "memory usage: 3.7+ MB\n"
     ]
    }
   ],
   "source": [
    "#check for null values\n",
    "df.info()"
   ]
  },
  {
   "cell_type": "markdown",
   "id": "231a4bf4",
   "metadata": {
    "papermill": {
     "duration": 0.006638,
     "end_time": "2023-10-11T10:05:48.697734",
     "exception": false,
     "start_time": "2023-10-11T10:05:48.691096",
     "status": "completed"
    },
    "tags": []
   },
   "source": [
    "# Create train and test datatsets"
   ]
  },
  {
   "cell_type": "code",
   "execution_count": 9,
   "id": "523bd152",
   "metadata": {
    "execution": {
     "iopub.execute_input": "2023-10-11T10:05:48.713657Z",
     "iopub.status.busy": "2023-10-11T10:05:48.713318Z",
     "iopub.status.idle": "2023-10-11T10:05:48.744784Z",
     "shell.execute_reply": "2023-10-11T10:05:48.743546Z"
    },
    "papermill": {
     "duration": 0.042309,
     "end_time": "2023-10-11T10:05:48.747312",
     "exception": false,
     "start_time": "2023-10-11T10:05:48.705003",
     "status": "completed"
    },
    "tags": []
   },
   "outputs": [
    {
     "data": {
      "text/plain": [
       "income\n",
       "0    24720\n",
       "1     7841\n",
       "Name: count, dtype: int64"
      ]
     },
     "execution_count": 9,
     "metadata": {},
     "output_type": "execute_result"
    }
   ],
   "source": [
    "# Create X with specific features, convert the categorical variables with dummy variables\n",
    "feature_columns = ['age', 'capital-gain', 'capital-loss', 'hours-per-week', 'sex','race']\n",
    "X = pd.get_dummies(df[feature_columns], drop_first=True)\n",
    "\n",
    "# convert >50K to 1 and <=50K to 0\n",
    "y = (df['income'] == '>50K')*1\n",
    "\n",
    "y.value_counts()"
   ]
  },
  {
   "cell_type": "code",
   "execution_count": 10,
   "id": "11761b01",
   "metadata": {
    "execution": {
     "iopub.execute_input": "2023-10-11T10:05:48.764191Z",
     "iopub.status.busy": "2023-10-11T10:05:48.763820Z",
     "iopub.status.idle": "2023-10-11T10:05:48.776663Z",
     "shell.execute_reply": "2023-10-11T10:05:48.775486Z"
    },
    "papermill": {
     "duration": 0.024983,
     "end_time": "2023-10-11T10:05:48.779270",
     "exception": false,
     "start_time": "2023-10-11T10:05:48.754287",
     "status": "completed"
    },
    "tags": []
   },
   "outputs": [],
   "source": [
    "# split data into train and test sets\n",
    "x_train, x_test, y_train, y_test = train_test_split(X, y, test_size=0.2, random_state=1)"
   ]
  },
  {
   "cell_type": "markdown",
   "id": "6adf0698",
   "metadata": {
    "papermill": {
     "duration": 0.007003,
     "end_time": "2023-10-11T10:05:48.793392",
     "exception": false,
     "start_time": "2023-10-11T10:05:48.786389",
     "status": "completed"
    },
    "tags": []
   },
   "source": [
    "# Build and Tune Random Forest Classifiers by Depth"
   ]
  },
  {
   "cell_type": "code",
   "execution_count": 11,
   "id": "992824d0",
   "metadata": {
    "execution": {
     "iopub.execute_input": "2023-10-11T10:05:48.809528Z",
     "iopub.status.busy": "2023-10-11T10:05:48.809115Z",
     "iopub.status.idle": "2023-10-11T10:05:50.699884Z",
     "shell.execute_reply": "2023-10-11T10:05:50.698474Z"
    },
    "papermill": {
     "duration": 1.901427,
     "end_time": "2023-10-11T10:05:50.702083",
     "exception": false,
     "start_time": "2023-10-11T10:05:48.800656",
     "status": "completed"
    },
    "tags": []
   },
   "outputs": [
    {
     "name": "stdout",
     "output_type": "stream",
     "text": [
      "Accuracy score fo baseline Random Forest Classifier:  0.8200522032857362\n"
     ]
    }
   ],
   "source": [
    "# instantiate Random Forest model without parameters to have baseline\n",
    "rf = RandomForestClassifier()\n",
    "rf.fit(x_train, y_train)\n",
    "y_pred = rf.predict(x_test)\n",
    "\n",
    "# calculate accuracy score\n",
    "accuracy = accuracy_score(y_test, y_pred)\n",
    "print('Accuracy score fo baseline Random Forest Classifier: ', accuracy)"
   ]
  },
  {
   "cell_type": "code",
   "execution_count": 12,
   "id": "e6d60558",
   "metadata": {
    "execution": {
     "iopub.execute_input": "2023-10-11T10:05:50.717673Z",
     "iopub.status.busy": "2023-10-11T10:05:50.717293Z",
     "iopub.status.idle": "2023-10-11T10:06:30.850218Z",
     "shell.execute_reply": "2023-10-11T10:06:30.849115Z"
    },
    "papermill": {
     "duration": 40.157166,
     "end_time": "2023-10-11T10:06:30.866141",
     "exception": false,
     "start_time": "2023-10-11T10:05:50.708975",
     "status": "completed"
    },
    "tags": []
   },
   "outputs": [
    {
     "name": "stdout",
     "output_type": "stream",
     "text": [
      "[0.777142199017199, 0.8005605036855037, 0.8142659705159705, 0.8156480343980343, 0.8183353808353808, 0.8199477886977887, 0.8215601965601965, 0.8228654791154791, 0.824132371007371, 0.8255528255528255, 0.832347972972973, 0.8350353194103194, 0.8389895577395577, 0.8421375921375921, 0.8447097665847666, 0.847627457002457, 0.8497773341523341, 0.8526950245700246, 0.855036855036855, 0.8568412162162162, 0.8579545454545454, 0.8586839680589681, 0.8596437346437347, 0.8602963759213759, 0.8606418918918919]\n",
      "[0.7891908490710886, 0.8114540150468295, 0.8263473053892215, 0.8283433133732535, 0.8300322432058959, 0.8298787041302012, 0.8306463995086749, 0.8311070167357593, 0.8321817902656226, 0.8311070167357593, 0.8317211730385383, 0.8329494856440964, 0.8335636419468755, 0.8346384154767388, 0.8315676339628435, 0.8315676339628435, 0.8284968524489482, 0.8284968524489482, 0.8248119146322739, 0.8245048364808844, 0.8231229847996315, 0.8246583755565792, 0.8226623675725472, 0.8220482112697681, 0.8215875940426839]\n"
     ]
    }
   ],
   "source": [
    "# tune the model by exploring the performance over a range of max_depth\n",
    "max_depth = list(range(1, 26))\n",
    "accuracy_train = []\n",
    "accuracy_test = []\n",
    "\n",
    "for i in max_depth:\n",
    "    rf = RandomForestClassifier(max_depth=i)\n",
    "    rf.fit(x_train, y_train)\n",
    "    y_pred_train = rf.predict(x_train)\n",
    "    y_pred_test = rf.predict(x_test)\n",
    "    \n",
    "    accuracy_train.append(accuracy_score(y_train, y_pred_train))\n",
    "    accuracy_test.append(accuracy_score(y_test, y_pred_test))\n",
    "\n",
    "print(accuracy_train)\n",
    "print(accuracy_test)"
   ]
  },
  {
   "cell_type": "code",
   "execution_count": 13,
   "id": "0e2ec43f",
   "metadata": {
    "execution": {
     "iopub.execute_input": "2023-10-11T10:06:30.884632Z",
     "iopub.status.busy": "2023-10-11T10:06:30.883472Z",
     "iopub.status.idle": "2023-10-11T10:06:31.175725Z",
     "shell.execute_reply": "2023-10-11T10:06:31.174399Z"
    },
    "papermill": {
     "duration": 0.303694,
     "end_time": "2023-10-11T10:06:31.178162",
     "exception": false,
     "start_time": "2023-10-11T10:06:30.874468",
     "status": "completed"
    },
    "tags": []
   },
   "outputs": [
    {
     "data": {
      "image/png": "[encoded data removed]",
      "text/plain": [
       "<Figure size 640x480 with 1 Axes>"
      ]
     },
     "metadata": {},
     "output_type": "display_data"
    }
   ],
   "source": [
    "plt.plot(max_depth, accuracy_train, 'bo:')\n",
    "plt.plot(max_depth, accuracy_test, 'ro:')\n",
    "plt.legend(['train accuracy', 'test accuracy'])\n",
    "plt.xlabel('max depth')\n",
    "plt.ylabel('accuracy')\n",
    "plt.show()"
   ]
  },
  {
   "cell_type": "code",
   "execution_count": 14,
   "id": "e7a2194a",
   "metadata": {
    "execution": {
     "iopub.execute_input": "2023-10-11T10:06:31.195665Z",
     "iopub.status.busy": "2023-10-11T10:06:31.195292Z",
     "iopub.status.idle": "2023-10-11T10:06:31.202157Z",
     "shell.execute_reply": "2023-10-11T10:06:31.200964Z"
    },
    "papermill": {
     "duration": 0.018488,
     "end_time": "2023-10-11T10:06:31.204917",
     "exception": false,
     "start_time": "2023-10-11T10:06:31.186429",
     "status": "completed"
    },
    "tags": []
   },
   "outputs": [
    {
     "name": "stdout",
     "output_type": "stream",
     "text": [
      "Best depth:  14\n",
      "Best accuracy value:  0.8346384154767388\n"
     ]
    }
   ],
   "source": [
    "# find largest accuracy and max_depth at which it occurs\n",
    "best_accuracy = max(accuracy_test)\n",
    "best_depth = max_depth[np.argmax(accuracy_test)]\n",
    "print('Best depth: ', best_depth)\n",
    "print('Best accuracy value: ', best_accuracy)"
   ]
  },
  {
   "cell_type": "code",
   "execution_count": 15,
   "id": "b094d3b5",
   "metadata": {
    "execution": {
     "iopub.execute_input": "2023-10-11T10:06:31.221457Z",
     "iopub.status.busy": "2023-10-11T10:06:31.221108Z",
     "iopub.status.idle": "2023-10-11T10:06:32.444322Z",
     "shell.execute_reply": "2023-10-11T10:06:32.442770Z"
    },
    "papermill": {
     "duration": 1.234528,
     "end_time": "2023-10-11T10:06:32.446900",
     "exception": false,
     "start_time": "2023-10-11T10:06:31.212372",
     "status": "completed"
    },
    "tags": []
   },
   "outputs": [
    {
     "data": {
      "text/html": [
       "<div>\n",
       "<style scoped>\n",
       "    .dataframe tbody tr th:only-of-type {\n",
       "        vertical-align: middle;\n",
       "    }\n",
       "\n",
       "    .dataframe tbody tr th {\n",
       "        vertical-align: top;\n",
       "    }\n",
       "\n",
       "    .dataframe thead th {\n",
       "        text-align: right;\n",
       "    }\n",
       "</style>\n",
       "<table border=\"1\" class=\"dataframe\">\n",
       "  <thead>\n",
       "    <tr style=\"text-align: right;\">\n",
       "      <th></th>\n",
       "      <th>feature</th>\n",
       "      <th>importance</th>\n",
       "    </tr>\n",
       "  </thead>\n",
       "  <tbody>\n",
       "    <tr>\n",
       "      <th>1</th>\n",
       "      <td>capital-gain</td>\n",
       "      <td>0.373671</td>\n",
       "    </tr>\n",
       "    <tr>\n",
       "      <th>0</th>\n",
       "      <td>age</td>\n",
       "      <td>0.243841</td>\n",
       "    </tr>\n",
       "    <tr>\n",
       "      <th>3</th>\n",
       "      <td>hours-per-week</td>\n",
       "      <td>0.141255</td>\n",
       "    </tr>\n",
       "    <tr>\n",
       "      <th>2</th>\n",
       "      <td>capital-loss</td>\n",
       "      <td>0.139395</td>\n",
       "    </tr>\n",
       "    <tr>\n",
       "      <th>4</th>\n",
       "      <td>sex_Male</td>\n",
       "      <td>0.080425</td>\n",
       "    </tr>\n",
       "    <tr>\n",
       "      <th>6</th>\n",
       "      <td>race_Black</td>\n",
       "      <td>0.009454</td>\n",
       "    </tr>\n",
       "    <tr>\n",
       "      <th>8</th>\n",
       "      <td>race_White</td>\n",
       "      <td>0.006747</td>\n",
       "    </tr>\n",
       "    <tr>\n",
       "      <th>5</th>\n",
       "      <td>race_Asian-Pac-Islander</td>\n",
       "      <td>0.003945</td>\n",
       "    </tr>\n",
       "    <tr>\n",
       "      <th>7</th>\n",
       "      <td>race_Other</td>\n",
       "      <td>0.001266</td>\n",
       "    </tr>\n",
       "  </tbody>\n",
       "</table>\n",
       "</div>"
      ],
      "text/plain": [
       "                   feature  importance\n",
       "1             capital-gain    0.373671\n",
       "0                      age    0.243841\n",
       "3           hours-per-week    0.141255\n",
       "2             capital-loss    0.139395\n",
       "4                 sex_Male    0.080425\n",
       "6               race_Black    0.009454\n",
       "8               race_White    0.006747\n",
       "5  race_Asian-Pac-Islander    0.003945\n",
       "7               race_Other    0.001266"
      ]
     },
     "execution_count": 15,
     "metadata": {},
     "output_type": "execute_result"
    }
   ],
   "source": [
    "# create  a new model with the best depth and save the feature importance\n",
    "rf = RandomForestClassifier(max_depth=12)\n",
    "rf.fit(x_train, y_train)\n",
    "\n",
    "feature_importance_df = pd.DataFrame(zip(x_train.columns, rf.feature_importances_), columns=['feature', 'importance'])\n",
    "feature_importance_df.sort_values(by='importance', ascending=False)"
   ]
  },
  {
   "cell_type": "markdown",
   "id": "c2a41981",
   "metadata": {
    "papermill": {
     "duration": 0.007545,
     "end_time": "2023-10-11T10:06:32.463923",
     "exception": false,
     "start_time": "2023-10-11T10:06:32.456378",
     "status": "completed"
    },
    "tags": []
   },
   "source": [
    "## Create Additional Features and Re-Tune"
   ]
  },
  {
   "cell_type": "code",
   "execution_count": 16,
   "id": "ccd62557",
   "metadata": {
    "execution": {
     "iopub.execute_input": "2023-10-11T10:06:32.483007Z",
     "iopub.status.busy": "2023-10-11T10:06:32.482608Z",
     "iopub.status.idle": "2023-10-11T10:06:32.492336Z",
     "shell.execute_reply": "2023-10-11T10:06:32.491320Z"
    },
    "papermill": {
     "duration": 0.021058,
     "end_time": "2023-10-11T10:06:32.494477",
     "exception": false,
     "start_time": "2023-10-11T10:06:32.473419",
     "status": "completed"
    },
    "tags": []
   },
   "outputs": [
    {
     "data": {
      "text/plain": [
       "array(['Bachelors', 'HS-grad', '11th', 'Masters', '9th', 'Some-college',\n",
       "       'Assoc-acdm', 'Assoc-voc', '7th-8th', 'Doctorate', 'Prof-school',\n",
       "       '5th-6th', '10th', '1st-4th', 'Preschool', '12th'], dtype=object)"
      ]
     },
     "execution_count": 16,
     "metadata": {},
     "output_type": "execute_result"
    }
   ],
   "source": [
    "# add new features to X, using the education column\n",
    "df.education.unique()"
   ]
  },
  {
   "cell_type": "code",
   "execution_count": 17,
   "id": "1c190b64",
   "metadata": {
    "execution": {
     "iopub.execute_input": "2023-10-11T10:06:32.512569Z",
     "iopub.status.busy": "2023-10-11T10:06:32.512204Z",
     "iopub.status.idle": "2023-10-11T10:06:32.535405Z",
     "shell.execute_reply": "2023-10-11T10:06:32.534097Z"
    },
    "papermill": {
     "duration": 0.035393,
     "end_time": "2023-10-11T10:06:32.538181",
     "exception": false,
     "start_time": "2023-10-11T10:06:32.502788",
     "status": "completed"
    },
    "tags": []
   },
   "outputs": [
    {
     "data": {
      "text/html": [
       "<div>\n",
       "<style scoped>\n",
       "    .dataframe tbody tr th:only-of-type {\n",
       "        vertical-align: middle;\n",
       "    }\n",
       "\n",
       "    .dataframe tbody tr th {\n",
       "        vertical-align: top;\n",
       "    }\n",
       "\n",
       "    .dataframe thead th {\n",
       "        text-align: right;\n",
       "    }\n",
       "</style>\n",
       "<table border=\"1\" class=\"dataframe\">\n",
       "  <thead>\n",
       "    <tr style=\"text-align: right;\">\n",
       "      <th></th>\n",
       "      <th>age</th>\n",
       "      <th>workclass</th>\n",
       "      <th>fnlwgt</th>\n",
       "      <th>education</th>\n",
       "      <th>education-num</th>\n",
       "      <th>marital-status</th>\n",
       "      <th>occupation</th>\n",
       "      <th>relationship</th>\n",
       "      <th>race</th>\n",
       "      <th>sex</th>\n",
       "      <th>capital-gain</th>\n",
       "      <th>capital-loss</th>\n",
       "      <th>hours-per-week</th>\n",
       "      <th>native-country</th>\n",
       "      <th>income</th>\n",
       "      <th>education_bin</th>\n",
       "    </tr>\n",
       "  </thead>\n",
       "  <tbody>\n",
       "    <tr>\n",
       "      <th>0</th>\n",
       "      <td>39</td>\n",
       "      <td>State-gov</td>\n",
       "      <td>77516</td>\n",
       "      <td>Bachelors</td>\n",
       "      <td>13</td>\n",
       "      <td>Never-married</td>\n",
       "      <td>Adm-clerical</td>\n",
       "      <td>Not-in-family</td>\n",
       "      <td>White</td>\n",
       "      <td>Male</td>\n",
       "      <td>2174</td>\n",
       "      <td>0</td>\n",
       "      <td>40</td>\n",
       "      <td>United-States</td>\n",
       "      <td>&lt;=50K</td>\n",
       "      <td>College to Bachelors</td>\n",
       "    </tr>\n",
       "    <tr>\n",
       "      <th>1</th>\n",
       "      <td>50</td>\n",
       "      <td>Self-emp-not-inc</td>\n",
       "      <td>83311</td>\n",
       "      <td>Bachelors</td>\n",
       "      <td>13</td>\n",
       "      <td>Married-civ-spouse</td>\n",
       "      <td>Exec-managerial</td>\n",
       "      <td>Husband</td>\n",
       "      <td>White</td>\n",
       "      <td>Male</td>\n",
       "      <td>0</td>\n",
       "      <td>0</td>\n",
       "      <td>13</td>\n",
       "      <td>United-States</td>\n",
       "      <td>&lt;=50K</td>\n",
       "      <td>College to Bachelors</td>\n",
       "    </tr>\n",
       "    <tr>\n",
       "      <th>2</th>\n",
       "      <td>38</td>\n",
       "      <td>Private</td>\n",
       "      <td>215646</td>\n",
       "      <td>HS-grad</td>\n",
       "      <td>9</td>\n",
       "      <td>Divorced</td>\n",
       "      <td>Handlers-cleaners</td>\n",
       "      <td>Not-in-family</td>\n",
       "      <td>White</td>\n",
       "      <td>Male</td>\n",
       "      <td>0</td>\n",
       "      <td>0</td>\n",
       "      <td>40</td>\n",
       "      <td>United-States</td>\n",
       "      <td>&lt;=50K</td>\n",
       "      <td>High school and less</td>\n",
       "    </tr>\n",
       "    <tr>\n",
       "      <th>3</th>\n",
       "      <td>53</td>\n",
       "      <td>Private</td>\n",
       "      <td>234721</td>\n",
       "      <td>11th</td>\n",
       "      <td>7</td>\n",
       "      <td>Married-civ-spouse</td>\n",
       "      <td>Handlers-cleaners</td>\n",
       "      <td>Husband</td>\n",
       "      <td>Black</td>\n",
       "      <td>Male</td>\n",
       "      <td>0</td>\n",
       "      <td>0</td>\n",
       "      <td>40</td>\n",
       "      <td>United-States</td>\n",
       "      <td>&lt;=50K</td>\n",
       "      <td>High school and less</td>\n",
       "    </tr>\n",
       "    <tr>\n",
       "      <th>4</th>\n",
       "      <td>28</td>\n",
       "      <td>Private</td>\n",
       "      <td>338409</td>\n",
       "      <td>Bachelors</td>\n",
       "      <td>13</td>\n",
       "      <td>Married-civ-spouse</td>\n",
       "      <td>Prof-specialty</td>\n",
       "      <td>Wife</td>\n",
       "      <td>Black</td>\n",
       "      <td>Female</td>\n",
       "      <td>0</td>\n",
       "      <td>0</td>\n",
       "      <td>40</td>\n",
       "      <td>Cuba</td>\n",
       "      <td>&lt;=50K</td>\n",
       "      <td>College to Bachelors</td>\n",
       "    </tr>\n",
       "  </tbody>\n",
       "</table>\n",
       "</div>"
      ],
      "text/plain": [
       "   age         workclass  fnlwgt  education  education-num  \\\n",
       "0   39         State-gov   77516  Bachelors             13   \n",
       "1   50  Self-emp-not-inc   83311  Bachelors             13   \n",
       "2   38           Private  215646    HS-grad              9   \n",
       "3   53           Private  234721       11th              7   \n",
       "4   28           Private  338409  Bachelors             13   \n",
       "\n",
       "       marital-status         occupation   relationship   race     sex  \\\n",
       "0       Never-married       Adm-clerical  Not-in-family  White    Male   \n",
       "1  Married-civ-spouse    Exec-managerial        Husband  White    Male   \n",
       "2            Divorced  Handlers-cleaners  Not-in-family  White    Male   \n",
       "3  Married-civ-spouse  Handlers-cleaners        Husband  Black    Male   \n",
       "4  Married-civ-spouse     Prof-specialty           Wife  Black  Female   \n",
       "\n",
       "   capital-gain  capital-loss  hours-per-week native-country income  \\\n",
       "0          2174             0              40  United-States  <=50K   \n",
       "1             0             0              13  United-States  <=50K   \n",
       "2             0             0              40  United-States  <=50K   \n",
       "3             0             0              40  United-States  <=50K   \n",
       "4             0             0              40           Cuba  <=50K   \n",
       "\n",
       "          education_bin  \n",
       "0  College to Bachelors  \n",
       "1  College to Bachelors  \n",
       "2  High school and less  \n",
       "3  High school and less  \n",
       "4  College to Bachelors  "
      ]
     },
     "execution_count": 17,
     "metadata": {},
     "output_type": "execute_result"
    }
   ],
   "source": [
    "# make a new column by grouping into 3 categories the 16 variables in education\n",
    "df['education_bin'] = pd.cut(df['education-num'], \n",
    "                             [0, 9, 13, 16], \n",
    "                             labels=['High school and less', 'College to Bachelors', 'Masters and more'])\n",
    "df.head()"
   ]
  },
  {
   "cell_type": "code",
   "execution_count": 18,
   "id": "8aba7ee6",
   "metadata": {
    "execution": {
     "iopub.execute_input": "2023-10-11T10:06:32.557241Z",
     "iopub.status.busy": "2023-10-11T10:06:32.556477Z",
     "iopub.status.idle": "2023-10-11T10:07:14.062744Z",
     "shell.execute_reply": "2023-10-11T10:07:14.061417Z"
    },
    "papermill": {
     "duration": 41.518894,
     "end_time": "2023-10-11T10:07:14.065294",
     "exception": false,
     "start_time": "2023-10-11T10:06:32.546400",
     "status": "completed"
    },
    "tags": []
   },
   "outputs": [],
   "source": [
    "# create X again\n",
    "feature_columns = ['age', 'capital-gain', 'capital-loss', 'hours-per-week', 'sex','race', 'education_bin']\n",
    "X = pd.get_dummies(df[feature_columns], drop_first=True)\n",
    "\n",
    "# split data into train and test sets\n",
    "x_train, x_test, y_train, y_test = train_test_split(X, y, test_size=0.2, random_state=1)\n",
    "\n",
    "# test the random forest for max_depth\n",
    "max_depth = list(range(1, 26))\n",
    "accuracy_train = []\n",
    "accuracy_test = []\n",
    "\n",
    "for i in max_depth:\n",
    "    rf = RandomForestClassifier(max_depth=i)\n",
    "    rf.fit(x_train, y_train)\n",
    "    y_pred_train = rf.predict(x_train)\n",
    "    y_pred_test = rf.predict(x_test)\n",
    "    \n",
    "    accuracy_train.append(accuracy_score(y_train, y_pred_train))\n",
    "    accuracy_test.append(accuracy_score(y_test, y_pred_test))"
   ]
  },
  {
   "cell_type": "code",
   "execution_count": 19,
   "id": "21c25f37",
   "metadata": {
    "execution": {
     "iopub.execute_input": "2023-10-11T10:07:14.083921Z",
     "iopub.status.busy": "2023-10-11T10:07:14.083514Z",
     "iopub.status.idle": "2023-10-11T10:07:14.088961Z",
     "shell.execute_reply": "2023-10-11T10:07:14.088194Z"
    },
    "papermill": {
     "duration": 0.017416,
     "end_time": "2023-10-11T10:07:14.091508",
     "exception": false,
     "start_time": "2023-10-11T10:07:14.074092",
     "status": "completed"
    },
    "tags": []
   },
   "outputs": [
    {
     "name": "stdout",
     "output_type": "stream",
     "text": [
      "Best depth:  15\n",
      "Best accuracy value:  0.85014586212191\n"
     ]
    }
   ],
   "source": [
    "# find largest accuracy and max_depth at which it occurs\n",
    "best_accuracy = max(accuracy_test)\n",
    "best_depth = max_depth[np.argmax(accuracy_test)]\n",
    "print('Best depth: ', best_depth)\n",
    "print('Best accuracy value: ', best_accuracy)"
   ]
  },
  {
   "cell_type": "code",
   "execution_count": 20,
   "id": "c95e4654",
   "metadata": {
    "execution": {
     "iopub.execute_input": "2023-10-11T10:07:14.110393Z",
     "iopub.status.busy": "2023-10-11T10:07:14.110012Z",
     "iopub.status.idle": "2023-10-11T10:07:14.380207Z",
     "shell.execute_reply": "2023-10-11T10:07:14.378935Z"
    },
    "papermill": {
     "duration": 0.282545,
     "end_time": "2023-10-11T10:07:14.382433",
     "exception": false,
     "start_time": "2023-10-11T10:07:14.099888",
     "status": "completed"
    },
    "tags": []
   },
   "outputs": [
    {
     "data": {
      "image/png": "[encoded data removed]",
      "text/plain": [
       "<Figure size 640x480 with 1 Axes>"
      ]
     },
     "metadata": {},
     "output_type": "display_data"
    }
   ],
   "source": [
    "plt.plot(max_depth, accuracy_train, 'bo:')\n",
    "plt.plot(max_depth, accuracy_test, 'ro:')\n",
    "plt.legend(['train accuracy', 'test accuracy'])\n",
    "plt.xlabel('max depth')\n",
    "plt.ylabel('accuracy')\n",
    "plt.show()"
   ]
  },
  {
   "cell_type": "code",
   "execution_count": 21,
   "id": "a4ac2f6b",
   "metadata": {
    "execution": {
     "iopub.execute_input": "2023-10-11T10:07:14.402563Z",
     "iopub.status.busy": "2023-10-11T10:07:14.402194Z",
     "iopub.status.idle": "2023-10-11T10:07:15.681870Z",
     "shell.execute_reply": "2023-10-11T10:07:15.680648Z"
    },
    "papermill": {
     "duration": 1.292253,
     "end_time": "2023-10-11T10:07:15.684315",
     "exception": false,
     "start_time": "2023-10-11T10:07:14.392062",
     "status": "completed"
    },
    "tags": []
   },
   "outputs": [
    {
     "data": {
      "text/html": [
       "<div>\n",
       "<style scoped>\n",
       "    .dataframe tbody tr th:only-of-type {\n",
       "        vertical-align: middle;\n",
       "    }\n",
       "\n",
       "    .dataframe tbody tr th {\n",
       "        vertical-align: top;\n",
       "    }\n",
       "\n",
       "    .dataframe thead th {\n",
       "        text-align: right;\n",
       "    }\n",
       "</style>\n",
       "<table border=\"1\" class=\"dataframe\">\n",
       "  <thead>\n",
       "    <tr style=\"text-align: right;\">\n",
       "      <th></th>\n",
       "      <th>feature</th>\n",
       "      <th>importance</th>\n",
       "    </tr>\n",
       "  </thead>\n",
       "  <tbody>\n",
       "    <tr>\n",
       "      <th>1</th>\n",
       "      <td>capital-gain</td>\n",
       "      <td>0.295915</td>\n",
       "    </tr>\n",
       "    <tr>\n",
       "      <th>0</th>\n",
       "      <td>age</td>\n",
       "      <td>0.215281</td>\n",
       "    </tr>\n",
       "    <tr>\n",
       "      <th>3</th>\n",
       "      <td>hours-per-week</td>\n",
       "      <td>0.130189</td>\n",
       "    </tr>\n",
       "    <tr>\n",
       "      <th>10</th>\n",
       "      <td>education_bin_Masters and more</td>\n",
       "      <td>0.108806</td>\n",
       "    </tr>\n",
       "    <tr>\n",
       "      <th>2</th>\n",
       "      <td>capital-loss</td>\n",
       "      <td>0.105028</td>\n",
       "    </tr>\n",
       "    <tr>\n",
       "      <th>4</th>\n",
       "      <td>sex_Male</td>\n",
       "      <td>0.077473</td>\n",
       "    </tr>\n",
       "    <tr>\n",
       "      <th>9</th>\n",
       "      <td>education_bin_College to Bachelors</td>\n",
       "      <td>0.049390</td>\n",
       "    </tr>\n",
       "    <tr>\n",
       "      <th>8</th>\n",
       "      <td>race_White</td>\n",
       "      <td>0.006635</td>\n",
       "    </tr>\n",
       "    <tr>\n",
       "      <th>6</th>\n",
       "      <td>race_Black</td>\n",
       "      <td>0.006323</td>\n",
       "    </tr>\n",
       "    <tr>\n",
       "      <th>5</th>\n",
       "      <td>race_Asian-Pac-Islander</td>\n",
       "      <td>0.003649</td>\n",
       "    </tr>\n",
       "    <tr>\n",
       "      <th>7</th>\n",
       "      <td>race_Other</td>\n",
       "      <td>0.001311</td>\n",
       "    </tr>\n",
       "  </tbody>\n",
       "</table>\n",
       "</div>"
      ],
      "text/plain": [
       "                               feature  importance\n",
       "1                         capital-gain    0.295915\n",
       "0                                  age    0.215281\n",
       "3                       hours-per-week    0.130189\n",
       "10      education_bin_Masters and more    0.108806\n",
       "2                         capital-loss    0.105028\n",
       "4                             sex_Male    0.077473\n",
       "9   education_bin_College to Bachelors    0.049390\n",
       "8                           race_White    0.006635\n",
       "6                           race_Black    0.006323\n",
       "5              race_Asian-Pac-Islander    0.003649\n",
       "7                           race_Other    0.001311"
      ]
     },
     "execution_count": 21,
     "metadata": {},
     "output_type": "execute_result"
    }
   ],
   "source": [
    "# create  a new model with the best depth and save the feature importance\n",
    "rf = RandomForestClassifier(max_depth=13)\n",
    "rf.fit(x_train, y_train)\n",
    "\n",
    "feature_importance_df = pd.DataFrame(zip(x_train.columns, rf.feature_importances_), columns=['feature', 'importance'])\n",
    "feature_importance_df.sort_values(by='importance', ascending=False)"
   ]
  },
  {
   "cell_type": "markdown",
   "id": "f2ded24c",
   "metadata": {
    "papermill": {
     "duration": 0.00835,
     "end_time": "2023-10-11T10:07:15.701630",
     "exception": false,
     "start_time": "2023-10-11T10:07:15.693280",
     "status": "completed"
    },
    "tags": []
   },
   "source": [
    "# Conclusions\n",
    "\n",
    "Accuracy score for Random Forest Classifier:\n",
    "- baseline model: 0.821\n",
    "- first tuning (best max_depth=13): 0.835\n",
    "    - best features: capital-gain, age, hours-per-week, capital-loss\n",
    "- second tuning (added education_bin, best depth=13): **0.850**\n",
    "    - best features: same as before, plus a couple of education-bin columns\n",
    "\n",
    "The best performinf model has a mx_depth=13, and includes the education feature.\n",
    "\n",
    "Way to expand from here:\n",
    "- Are there other features that may lead to an even better performace? Consider creating new ones or adding additional features not part of the original feature list.\n",
    "- Consider tuning hyperparameters based on a different evaluation metric – our classes are fairly imbalanced, AUC of F1 may lead to a different result\n",
    "- Tune more parameters of the model. You can find a description of all the parameters you can tune in the Random Forest Classifier documentation. For example, see what happens if you tune max_features or n_estimators."
   ]
  }
 ],
 "metadata": {
  "kernelspec": {
   "display_name": "Python 3",
   "language": "python",
   "name": "python3"
  },
  "language_info": {
   "codemirror_mode": {
    "name": "ipython",
    "version": 3
   },
   "file_extension": ".py",
   "mimetype": "text/x-python",
   "name": "python",
   "nbconvert_exporter": "python",
   "pygments_lexer": "ipython3",
   "version": "3.10.12"
  },
  "papermill": {
   "default_parameters": {},
   "duration": 95.448465,
   "end_time": "2023-10-11T10:07:16.432242",
   "environment_variables": {},
   "exception": null,
   "input_path": "__notebook__.ipynb",
   "output_path": "__notebook__.ipynb",
   "parameters": {},
   "start_time": "2023-10-11T10:05:40.983777",
   "version": "2.4.0"
  }
 },
 "nbformat": 4,
 "nbformat_minor": 5
}
